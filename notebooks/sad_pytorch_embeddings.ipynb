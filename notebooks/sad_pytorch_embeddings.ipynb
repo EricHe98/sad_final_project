{
  "nbformat": 4,
  "nbformat_minor": 0,
  "metadata": {
    "colab": {
      "name": "sad_pytorch_embeddings.ipynb",
      "provenance": [],
      "collapsed_sections": []
    },
    "kernelspec": {
      "name": "python3",
      "display_name": "Python 3"
    },
    "accelerator": "GPU"
  },
  "cells": [
    {
      "cell_type": "code",
      "metadata": {
        "id": "Ca6gzVXDPZ0y"
      },
      "source": [
        "import os\n",
        "import argparse\n",
        "import csv\n",
        "import numpy as np\n",
        "import random\n",
        "import torch\n",
        "import torch.nn as nn\n",
        "from torch.utils.data import Dataset, DataLoader\n",
        "import torch.nn.functional as F\n",
        "\n",
        "\n",
        "from collections import defaultdict\n",
        "from tqdm import tqdm\n",
        "\n",
        "POS_PAIRS_FILENAME = \"pos_pairs.csv\"\n",
        "NEG_PAIRS_FILENAME = \"neg_pairs.csv\"\n",
        "HOTELS_FILENAME = \"hotels.csv\"\n",
        "\n",
        "def read_pairs(path):\n",
        "    pairs = []\n",
        "    with open(path, 'r') as file:\n",
        "        reader = csv.reader(file)\n",
        "        for row in reader:\n",
        "            int_row = [int(i) for i in row]\n",
        "            pairs.append(int_row)\n",
        "\n",
        "    return pairs\n",
        "\n",
        "def read_hotels(path):\n",
        "    hotels = []\n",
        "    with open(path, 'r') as file:\n",
        "        for row in file:\n",
        "            hotels.append(int(row))\n",
        "\n",
        "    return hotels\n",
        "\n",
        "def convert_pairs_to_dict(pairs):\n",
        "    a_dict = defaultdict(list)\n",
        "    for p in pairs:\n",
        "        a_dict[p[0]].append(p[1])\n",
        "    return a_dict\n",
        "\n",
        "def read_pairs(filename):\n",
        "    pairs = []\n",
        "    with open(filename, 'r') as file:\n",
        "        reader = csv.reader(file)\n",
        "        for row in reader:\n",
        "            int_row = [int(i) for i in row]\n",
        "            pairs.append(int_row)\n",
        "    return pairs"
      ],
      "execution_count": 248,
      "outputs": []
    },
    {
      "cell_type": "code",
      "metadata": {
        "id": "V9CkSml5haYG"
      },
      "source": [
        "def similarity(e1, e2):\n",
        "    dot_product = torch.sum(e1 * e2, dim=-1)\n",
        "    prob = torch.sigmoid(dot_product)\n",
        "    return prob"
      ],
      "execution_count": 413,
      "outputs": []
    },
    {
      "cell_type": "code",
      "metadata": {
        "id": "F6p1xmVQPEsq"
      },
      "source": [
        "class EmbeddingModeler(nn.Module):\n",
        "\n",
        "    def __init__(self, num_embeddings, embedding_dim, with_bias=True):\n",
        "        super(EmbeddingModeler, self).__init__()\n",
        "        self.embeddings = nn.Embedding(num_embeddings, embedding_dim)\n",
        "\n",
        "    def forward(self, pair):\n",
        "        input = self.embeddings(pair[:, 0])\n",
        "        output = self.embeddings(pair[:, 1])\n",
        "        return similarity(input, output)\n",
        "\n",
        "    def pred_embed_id_pair(self, pair):\n",
        "        input = self.embeddings(pair[:, 0])\n",
        "        output = self.embeddings(pair[:, 1])\n",
        "        return input, output"
      ],
      "execution_count": 430,
      "outputs": []
    },
    {
      "cell_type": "code",
      "metadata": {
        "id": "IDhF65LWPatc"
      },
      "source": [
        "class HotelEmbeddingsDataset(Dataset):\n",
        "    \"\"\"Face Landmarks dataset.\"\"\"\n",
        "\n",
        "    def __init__(self, pos_pairs='pos_pairs.csv', neg_pairs='neg_pairs.csv', hotels='hotels.csv'):\n",
        "        \"\"\"\n",
        "        Args:\n",
        "            csv_file (string): Path to the csv file with annotations.\n",
        "            root_dir (string): Directory with all the images.\n",
        "            transform (callable, optional): Optional transform to be applied\n",
        "                on a sample.\n",
        "        \"\"\"\n",
        "        self.pos_pairs = read_pairs(pos_pairs)\n",
        "        self.neg_pairs = read_pairs(neg_pairs)\n",
        "        self.hotels = read_hotels(hotels)\n",
        "\n",
        "        self.p_dict = convert_pairs_to_dict(self.pos_pairs)\n",
        "        self.n_dict = convert_pairs_to_dict(self.neg_pairs)\n",
        "\n",
        "        self.positives = [self.p_dict[i] for i in self.hotels]\n",
        "        self.negatives = [self.n_dict[i] for i in self.hotels] \n",
        "\n",
        "        self.hotel_embedding_mapping = {hotel: i for i, hotel in enumerate(self.hotels)}\n",
        "\n",
        "        self.reference_indices = [self.hotel_embedding_mapping[u] for u in self.hotels]\n",
        "        self.positives_indices = [[self.hotel_embedding_mapping[h] for h in u] for u in self.positives]\n",
        "        self.negatives_indices = [[self.hotel_embedding_mapping[h] for h in u] for u in self.negatives]\n",
        "\n",
        "        self.training_data = []\n",
        "        for i in self.reference_indices:\n",
        "            for p in self.positives_indices[i]:\n",
        "                self.training_data.append([i, p, 1])\n",
        "            for p in self.positives_indices[i]:\n",
        "                self.training_data.append([i, p, 1])\n",
        "            for n in self.negatives_indices[i]:\n",
        "                self.training_data.append([i, n, 0])\n",
        "\n",
        "    def __len__(self):\n",
        "        return len(self.training_data)\n",
        "\n",
        "    def __getitem__(self, idx):\n",
        "        return torch.LongTensor(self.training_data[idx])"
      ],
      "execution_count": 426,
      "outputs": []
    },
    {
      "cell_type": "code",
      "metadata": {
        "id": "e8IDPcIF_ls1"
      },
      "source": [
        "hotel_dataset = HotelEmbeddingsDataset()\n",
        "dataset_loader = torch.utils.data.DataLoader(hotel_dataset,\n",
        "                                             batch_size=BATCH_SIZE, shuffle=True)"
      ],
      "execution_count": 427,
      "outputs": []
    },
    {
      "cell_type": "code",
      "metadata": {
        "colab": {
          "base_uri": "https://localhost:8080/"
        },
        "id": "lj7W-rCzBGZG",
        "outputId": "93b30274-aa3e-43b8-c0d7-fd78baa0a1a1"
      },
      "source": [
        "hotels = read_hotels('hotels.csv')\n",
        "print(N_HOTELS)"
      ],
      "execution_count": 428,
      "outputs": [
        {
          "output_type": "stream",
          "text": [
            "168829\n"
          ],
          "name": "stdout"
        }
      ]
    },
    {
      "cell_type": "code",
      "metadata": {
        "colab": {
          "base_uri": "https://localhost:8080/"
        },
        "id": "ix_euQVoRt1l",
        "outputId": "de21ab15-3637-432a-f94a-f954b4000e0f"
      },
      "source": [
        "BATCH_SIZE = 1024\n",
        "EMBEDDING_DIM = 32\n",
        "N_HOTELS = len(hotels)\n",
        "\n",
        "# initialize embeddings randomly\n",
        "model = EmbeddingModeler(N_HOTELS, EMBEDDING_DIM, with_bias=True)\n",
        "\n",
        "device = torch.device('cuda' if torch.cuda.is_available() else 'cpu')\n",
        "# device = 'cpu'\n",
        "model.to(device)\n",
        "print(device)\n",
        "\n",
        "optimizer = torch.optim.Adagrad(model.parameters(), lr=1)\n",
        "loss_func = nn.BCELoss()\n",
        "\n",
        "best_loss = 9999\n",
        "\n",
        "# loop over epochs\n",
        "epoch_losses = []\n",
        "patience = 0\n",
        "for e in range(20):\n",
        "    losses = 0\n",
        "    for (idx, batch) in enumerate(dataset_loader):   \n",
        "        batch = batch.to(device)    \n",
        "        pred = model(batch)\n",
        "        \n",
        "        target = batch[:, 2]\n",
        "        loss = loss_func(pred.float(), target.float())\n",
        "\n",
        "        loss.backward()\n",
        "        losses += loss.item()\n",
        "\n",
        "        optimizer.step() # perform the backprop step\n",
        "        optimizer.zero_grad() # reset loss to 0\n",
        "\n",
        "    avg_loss = loss / len(dataset_loader.dataset)\n",
        "    if e % 1 == 0:\n",
        "        print(f\"epoch: {e}: {avg_loss}\")\n",
        "    if best_loss > avg_loss:\n",
        "        torch.save(model, './sad_embedding_model.p')\n",
        "        best_loss = avg_loss\n",
        "        patience = 0\n",
        "    if patience > 2:\n",
        "        break\n",
        "    patience += 1\n",
        "print(f\"best loss: {best_loss}\")"
      ],
      "execution_count": 454,
      "outputs": [
        {
          "output_type": "stream",
          "text": [
            "cuda\n",
            "epoch: 0: 4.4496818674133465e-08\n",
            "epoch: 1: 4.4193019022031876e-08\n",
            "epoch: 2: 2.6651015616607765e-08\n",
            "epoch: 3: 4.053019253547063e-08\n",
            "epoch: 4: 2.010766486648663e-08\n",
            "epoch: 5: 1.6728858298620253e-08\n",
            "epoch: 6: 1.497006962836167e-08\n",
            "epoch: 7: 1.834969864944469e-08\n",
            "epoch: 8: 3.167990314523195e-08\n",
            "epoch: 9: 1.5810838860375043e-08\n",
            "epoch: 10: 3.371894408132903e-08\n",
            "best loss: 1.497006962836167e-08\n"
          ],
          "name": "stdout"
        }
      ]
    },
    {
      "cell_type": "code",
      "metadata": {
        "id": "UO0fdXxPkbNa"
      },
      "source": [
        "def embed_hotel_pair(samples):\n",
        "    embed_samples = []\n",
        "    for s in samples:\n",
        "        embed_samples.append([hotel_dataset.hotel_embedding_mapping[s[0]],\n",
        "                                hotel_dataset.hotel_embedding_mapping[s[1]]])\n",
        "    return embed_samples"
      ],
      "execution_count": 461,
      "outputs": []
    },
    {
      "cell_type": "code",
      "metadata": {
        "colab": {
          "base_uri": "https://localhost:8080/"
        },
        "id": "vi3xlGFoTWYB",
        "outputId": "3fbd22bb-4c19-4008-c2f9-f942ddbd3dcd"
      },
      "source": [
        "within_group = []\n",
        "differing_group = []\n",
        "model = torch.load('sad_embedding_model.p')\n",
        "model.eval()\n",
        "\n",
        "positive_samples = random.sample(hotel_dataset.pos_pairs, 100000)\n",
        "negative_samples = random.sample(hotel_dataset.neg_pairs, 100000)\n",
        "\n",
        "pos_embed_samples = embed_hotel_pair(positive_samples)\n",
        "neg_embed_samples = embed_hotel_pair(negative_samples)\n",
        "\n",
        "pos_embed_samples = torch.LongTensor(pos_embed_samples).to(device)    \n",
        "pos_1, pos_2 = model.pred_embed_id_pair(pos_embed_samples)\n",
        "wg = torch.mean(similarity(pos_1, pos_2))\n",
        "print(wg)\n",
        "\n",
        "neg_embed_samples = torch.LongTensor(neg_embed_samples).to(device)    \n",
        "neg_1, neg_2 = model.pred_embed_id_pair(neg_embed_samples)\n",
        "dg = torch.mean(similarity(neg_1, neg_2))\n",
        "print(dg)\n",
        "\n",
        "print(wg - dg)"
      ],
      "execution_count": 462,
      "outputs": [
        {
          "output_type": "stream",
          "text": [
            "tensor(0.9217, device='cuda:0', grad_fn=<MeanBackward0>)\n",
            "tensor(0.1742, device='cuda:0', grad_fn=<MeanBackward0>)\n",
            "tensor(0.7475, device='cuda:0', grad_fn=<SubBackward0>)\n"
          ],
          "name": "stdout"
        }
      ]
    },
    {
      "cell_type": "code",
      "metadata": {
        "colab": {
          "base_uri": "https://localhost:8080/",
          "height": 267
        },
        "id": "L4xNzfU3hDUF",
        "outputId": "514894b5-2d1c-4c9a-e084-113fbc88a45a"
      },
      "source": [
        "from matplotlib import pyplot\n",
        "import numpy as np\n",
        "\n",
        "bins = np.linspace(0, 1, 20)\n",
        "pyplot.hist(similarity(pos_1, pos_2).detach().cpu().numpy(), bins, alpha=0.8, label='In Context')\n",
        "pyplot.hist(similarity(neg_1, neg_2).detach().cpu().numpy(), bins, alpha=0.5, label='Out of Contex')\n",
        "pyplot.legend(loc='upper right')\n",
        "pyplot.show()"
      ],
      "execution_count": 464,
      "outputs": [
        {
          "output_type": "display_data",
          "data": {
            "image/png": "[encoded data removed]",
            "text/plain": [
              "<Figure size 432x288 with 1 Axes>"
            ]
          },
          "metadata": {
            "tags": [],
            "needs_background": "light"
          }
        }
      ]
    },
    {
      "cell_type": "code",
      "metadata": {
        "id": "jpHVhJVO2lyP"
      },
      "source": [
        ""
      ],
      "execution_count": 463,
      "outputs": []
    },
    {
      "cell_type": "markdown",
      "metadata": {
        "id": "ghy1bVZ6JL2p"
      },
      "source": [
        "# Save Embeddings"
      ]
    },
    {
      "cell_type": "code",
      "metadata": {
        "colab": {
          "base_uri": "https://localhost:8080/"
        },
        "id": "diF1UTdvJPjV",
        "outputId": "f7f4af5a-0f5c-4cbe-9c52-b64185e26563"
      },
      "source": [
        "list_hotels = hotel_dataset.hotels\n",
        "list_embeddings = []\n",
        "\n",
        "model.eval()\n",
        "for hotel in tqdm(list_hotels):   \n",
        "    hotel_embed_id = hotel_dataset.hotel_embedding_mapping[hotel]\n",
        "    hotel_embed_id = torch.LongTensor([hotel_embed_id]).to(device)    \n",
        "    embedding = model.embeddings(hotel_embed_id)\n",
        "    list_embeddings.extend(embedding.detach().cpu().numpy())"
      ],
      "execution_count": 465,
      "outputs": [
        {
          "output_type": "stream",
          "text": [
            "100%|██████████| 168829/168829 [00:15<00:00, 11044.89it/s]\n"
          ],
          "name": "stderr"
        }
      ]
    },
    {
      "cell_type": "code",
      "metadata": {
        "id": "Zn5t-RRbLJyO"
      },
      "source": [
        "import pandas as pd \n",
        "\n",
        "embeddings = pd.DataFrame(\n",
        "    {'hotel_id': list_hotels,\n",
        "     'embedding': list_embeddings,\n",
        "    })"
      ],
      "execution_count": 466,
      "outputs": []
    },
    {
      "cell_type": "code",
      "metadata": {
        "id": "2cF_Wco6OXTx"
      },
      "source": [
        "embeddings.to_parquet('embeddings.parquet')"
      ],
      "execution_count": 467,
      "outputs": []
    },
    {
      "cell_type": "code",
      "metadata": {
        "colab": {
          "base_uri": "https://localhost:8080/",
          "height": 17
        },
        "id": "CXV87FigPDmn",
        "outputId": "7254bac5-d3c7-4338-9f61-56f2ac1a9fb6"
      },
      "source": [
        "from google.colab import files\n",
        "files.download('embeddings.parquet') "
      ],
      "execution_count": 468,
      "outputs": [
        {
          "output_type": "display_data",
          "data": {
            "application/javascript": [
              "\n",
              "    async function download(id, filename, size) {\n",
              "      if (!google.colab.kernel.accessAllowed) {\n",
              "        return;\n",
              "      }\n",
              "      const div = document.createElement('div');\n",
              "      const label = document.createElement('label');\n",
              "      label.textContent = `Downloading \"${filename}\": `;\n",
              "      div.appendChild(label);\n",
              "      const progress = document.createElement('progress');\n",
              "      progress.max = size;\n",
              "      div.appendChild(progress);\n",
              "      document.body.appendChild(div);\n",
              "\n",
              "      const buffers = [];\n",
              "      let downloaded = 0;\n",
              "\n",
              "      const channel = await google.colab.kernel.comms.open(id);\n",
              "      // Send a message to notify the kernel that we're ready.\n",
              "      channel.send({})\n",
              "\n",
              "      for await (const message of channel.messages) {\n",
              "        // Send a message to notify the kernel that we're ready.\n",
              "        channel.send({})\n",
              "        if (message.buffers) {\n",
              "          for (const buffer of message.buffers) {\n",
              "            buffers.push(buffer);\n",
              "            downloaded += buffer.byteLength;\n",
              "            progress.value = downloaded;\n",
              "          }\n",
              "        }\n",
              "      }\n",
              "      const blob = new Blob(buffers, {type: 'application/binary'});\n",
              "      const a = document.createElement('a');\n",
              "      a.href = window.URL.createObjectURL(blob);\n",
              "      a.download = filename;\n",
              "      div.appendChild(a);\n",
              "      a.click();\n",
              "      div.remove();\n",
              "    }\n",
              "  "
            ],
            "text/plain": [
              "<IPython.core.display.Javascript object>"
            ]
          },
          "metadata": {
            "tags": []
          }
        },
        {
          "output_type": "display_data",
          "data": {
            "application/javascript": [
              "download(\"download_32d9e789-e9bf-4532-bdae-036e9aa07c77\", \"embeddings.parquet\", 23224571)"
            ],
            "text/plain": [
              "<IPython.core.display.Javascript object>"
            ]
          },
          "metadata": {
            "tags": []
          }
        }
      ]
    },
    {
      "cell_type": "code",
      "metadata": {
        "id": "u8QpRmoQfbH9"
      },
      "source": [
        ""
      ],
      "execution_count": null,
      "outputs": []
    }
  ]
}