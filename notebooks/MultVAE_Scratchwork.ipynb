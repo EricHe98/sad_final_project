{
 "cells": [
  {
   "cell_type": "code",
   "execution_count": 2,
   "metadata": {},
   "outputs": [],
   "source": [
    "import os\n",
    "import pandas as pd\n",
    "import numpy as np\n",
    "import random\n",
    "import json\n",
    "import torch\n",
    "import torch.utils.data as data"
   ]
  },
  {
   "cell_type": "code",
   "execution_count": 3,
   "metadata": {},
   "outputs": [],
   "source": [
    "data_path = '../data/raw/small_100'\n",
    "feature_path = 'src/data/schemas/output_data_schemas.json'"
   ]
  },
  {
   "cell_type": "code",
   "execution_count": 4,
   "metadata": {},
   "outputs": [],
   "source": [
    "def read_parquet(data_path, num_partitions: None, randomize = True, verbose = True):\n",
    "    files = os.listdir(data_path)\n",
    "    if randomize:\n",
    "        random.shuffle(files)\n",
    "    \n",
    "    if num_partitions is None:\n",
    "        num_partitions = len(files)\n",
    "    \n",
    "    data = []\n",
    "    num_reads = 0\n",
    "    for file_path in files:\n",
    "        if num_reads >= num_partitions:\n",
    "            if verbose:\n",
    "                print('Finished reading {} .parquet Files'.format(num_partitions))\n",
    "            break\n",
    "        \n",
    "        _ , ext = os.path.splitext(file_path)\n",
    "        \n",
    "        if ext == '.parquet':\n",
    "            fp = os.path.join(data_path, file_path)\n",
    "            data.append(pd.read_parquet(os.path.join(data_path, file_path)))\n",
    "            \n",
    "            if verbose:\n",
    "                print('Reading in data from {}'.format(fp))\n",
    "                print('Data of shape {}'.format(data[-1].shape))\n",
    "            \n",
    "            num_reads += 1\n",
    "        else: \n",
    "            continue\n",
    "    data = pd.concat(data, axis=0)\n",
    "    \n",
    "    if verbose:\n",
    "        print('Total dataframe of shape {}'.format(data.shape))\n",
    "    \n",
    "    return data"
   ]
  },
  {
   "cell_type": "code",
   "execution_count": 5,
   "metadata": {},
   "outputs": [
    {
     "name": "stdout",
     "output_type": "stream",
     "text": [
      "Reading in data from ../data/raw/small_100/0017_part_00.parquet\n",
      "Data of shape (49177, 68)\n",
      "Reading in data from ../data/raw/small_100/0050_part_00.parquet\n",
      "Data of shape (49072, 68)\n",
      "Reading in data from ../data/raw/small_100/0074_part_00.parquet\n",
      "Data of shape (49273, 68)\n",
      "Reading in data from ../data/raw/small_100/0049_part_00.parquet\n",
      "Data of shape (49153, 68)\n",
      "Reading in data from ../data/raw/small_100/0033_part_00.parquet\n",
      "Data of shape (49306, 68)\n",
      "Reading in data from ../data/raw/small_100/0095_part_00.parquet\n",
      "Data of shape (49172, 68)\n",
      "Reading in data from ../data/raw/small_100/0046_part_00.parquet\n",
      "Data of shape (49345, 68)\n",
      "Reading in data from ../data/raw/small_100/0001_part_00.parquet\n",
      "Data of shape (48765, 68)\n",
      "Reading in data from ../data/raw/small_100/0018_part_00.parquet\n",
      "Data of shape (49091, 68)\n",
      "Reading in data from ../data/raw/small_100/0083_part_00.parquet\n",
      "Data of shape (49067, 68)\n",
      "Reading in data from ../data/raw/small_100/0025_part_00.parquet\n",
      "Data of shape (49103, 68)\n",
      "Reading in data from ../data/raw/small_100/0062_part_00.parquet\n",
      "Data of shape (49285, 68)\n",
      "Reading in data from ../data/raw/small_100/0065_part_00.parquet\n",
      "Data of shape (49223, 68)\n",
      "Reading in data from ../data/raw/small_100/0058_part_00.parquet\n",
      "Data of shape (49018, 68)\n",
      "Reading in data from ../data/raw/small_100/0022_part_00.parquet\n",
      "Data of shape (49085, 68)\n",
      "Reading in data from ../data/raw/small_100/0084_part_00.parquet\n",
      "Data of shape (49114, 68)\n",
      "Reading in data from ../data/raw/small_100/0006_part_00.parquet\n",
      "Data of shape (49188, 68)\n",
      "Reading in data from ../data/raw/small_100/0041_part_00.parquet\n",
      "Data of shape (49257, 68)\n",
      "Reading in data from ../data/raw/small_100/0092_part_00.parquet\n",
      "Data of shape (48728, 68)\n",
      "Reading in data from ../data/raw/small_100/0009_part_00.parquet\n",
      "Data of shape (49477, 68)\n",
      "Reading in data from ../data/raw/small_100/0034_part_00.parquet\n",
      "Data of shape (49188, 68)\n",
      "Reading in data from ../data/raw/small_100/0073_part_00.parquet\n",
      "Data of shape (49204, 68)\n",
      "Reading in data from ../data/raw/small_100/0057_part_00.parquet\n",
      "Data of shape (49598, 68)\n",
      "Reading in data from ../data/raw/small_100/0010_part_00.parquet\n",
      "Data of shape (49184, 68)\n",
      "Reading in data from ../data/raw/small_100/0023_part_00.parquet\n",
      "Data of shape (49315, 68)\n",
      "Reading in data from ../data/raw/small_100/0085_part_00.parquet\n",
      "Data of shape (49291, 68)\n",
      "Reading in data from ../data/raw/small_100/0064_part_00.parquet\n",
      "Data of shape (49295, 68)\n",
      "Reading in data from ../data/raw/small_100/0059_part_00.parquet\n",
      "Data of shape (49445, 68)\n",
      "Reading in data from ../data/raw/small_100/0040_part_00.parquet\n",
      "Data of shape (49055, 68)\n",
      "Reading in data from ../data/raw/small_100/0007_part_00.parquet\n",
      "Data of shape (49103, 68)\n",
      "Reading in data from ../data/raw/small_100/0072_part_00.parquet\n",
      "Data of shape (49059, 68)\n",
      "Reading in data from ../data/raw/small_100/0093_part_00.parquet\n",
      "Data of shape (49263, 68)\n",
      "Reading in data from ../data/raw/small_100/0008_part_00.parquet\n",
      "Data of shape (49065, 68)\n",
      "Reading in data from ../data/raw/small_100/0035_part_00.parquet\n",
      "Data of shape (49158, 68)\n",
      "Reading in data from ../data/raw/small_100/0011_part_00.parquet\n",
      "Data of shape (48917, 68)\n",
      "Reading in data from ../data/raw/small_100/0056_part_00.parquet\n",
      "Data of shape (49264, 68)\n",
      "Reading in data from ../data/raw/small_100/0051_part_00.parquet\n",
      "Data of shape (49561, 68)\n",
      "Reading in data from ../data/raw/small_100/0016_part_00.parquet\n",
      "Data of shape (49062, 68)\n",
      "Reading in data from ../data/raw/small_100/0032_part_00.parquet\n",
      "Data of shape (49161, 68)\n",
      "Reading in data from ../data/raw/small_100/0094_part_00.parquet\n",
      "Data of shape (49030, 68)\n",
      "Reading in data from ../data/raw/small_100/0075_part_00.parquet\n",
      "Data of shape (48904, 68)\n",
      "Reading in data from ../data/raw/small_100/0048_part_00.parquet\n",
      "Data of shape (49492, 68)\n",
      "Reading in data from ../data/raw/small_100/0000_part_00.parquet\n",
      "Data of shape (49060, 68)\n",
      "Reading in data from ../data/raw/small_100/0047_part_00.parquet\n",
      "Data of shape (49400, 68)\n",
      "Reading in data from ../data/raw/small_100/0063_part_00.parquet\n",
      "Data of shape (49308, 68)\n",
      "Reading in data from ../data/raw/small_100/0019_part_00.parquet\n",
      "Data of shape (49478, 68)\n",
      "Reading in data from ../data/raw/small_100/0082_part_00.parquet\n",
      "Data of shape (49187, 68)\n",
      "Reading in data from ../data/raw/small_100/0024_part_00.parquet\n",
      "Data of shape (49143, 68)\n",
      "Reading in data from ../data/raw/small_100/0042_part_00.parquet\n",
      "Data of shape (49320, 68)\n",
      "Reading in data from ../data/raw/small_100/0005_part_00.parquet\n",
      "Data of shape (49135, 68)\n",
      "Reading in data from ../data/raw/small_100/0038_part_00.parquet\n",
      "Data of shape (49424, 68)\n",
      "Reading in data from ../data/raw/small_100/0087_part_00.parquet\n",
      "Data of shape (48970, 68)\n",
      "Reading in data from ../data/raw/small_100/0021_part_00.parquet\n",
      "Data of shape (49558, 68)\n",
      "Reading in data from ../data/raw/small_100/0066_part_00.parquet\n",
      "Data of shape (49169, 68)\n",
      "Reading in data from ../data/raw/small_100/0013_part_00.parquet\n",
      "Data of shape (49328, 68)\n",
      "Reading in data from ../data/raw/small_100/0088_part_00.parquet\n",
      "Data of shape (49206, 68)\n",
      "Reading in data from ../data/raw/small_100/0069_part_00.parquet\n",
      "Data of shape (49135, 68)\n",
      "Reading in data from ../data/raw/small_100/0054_part_00.parquet\n",
      "Data of shape (49025, 68)\n",
      "Reading in data from ../data/raw/small_100/0070_part_00.parquet\n",
      "Data of shape (49166, 68)\n",
      "Reading in data from ../data/raw/small_100/0037_part_00.parquet\n",
      "Data of shape (49239, 68)\n",
      "Reading in data from ../data/raw/small_100/0091_part_00.parquet\n",
      "Data of shape (48983, 68)\n",
      "Reading in data from ../data/raw/small_100/0030_part_00.parquet\n",
      "Data of shape (49206, 68)\n",
      "Reading in data from ../data/raw/small_100/0077_part_00.parquet\n",
      "Data of shape (49063, 68)\n",
      "Reading in data from ../data/raw/small_100/0053_part_00.parquet\n",
      "Data of shape (49217, 68)\n",
      "Reading in data from ../data/raw/small_100/0014_part_00.parquet\n",
      "Data of shape (49132, 68)\n",
      "Reading in data from ../data/raw/small_100/0029_part_00.parquet\n",
      "Data of shape (49456, 68)\n",
      "Reading in data from ../data/raw/small_100/0061_part_00.parquet\n",
      "Data of shape (49097, 68)\n",
      "Reading in data from ../data/raw/small_100/0026_part_00.parquet\n",
      "Data of shape (49192, 68)\n",
      "Reading in data from ../data/raw/small_100/0080_part_00.parquet\n",
      "Data of shape (49280, 68)\n",
      "Reading in data from ../data/raw/small_100/0002_part_00.parquet\n",
      "Data of shape (49193, 68)\n",
      "Reading in data from ../data/raw/small_100/0078_part_00.parquet\n",
      "Data of shape (49169, 68)\n",
      "Reading in data from ../data/raw/small_100/0045_part_00.parquet\n",
      "Data of shape (49100, 68)\n",
      "Reading in data from ../data/raw/small_100/0076_part_00.parquet\n",
      "Data of shape (49307, 68)\n",
      "Reading in data from ../data/raw/small_100/0031_part_00.parquet\n",
      "Data of shape (49276, 68)\n",
      "Reading in data from ../data/raw/small_100/0015_part_00.parquet\n",
      "Data of shape (48992, 68)\n",
      "Reading in data from ../data/raw/small_100/0028_part_00.parquet\n",
      "Data of shape (49340, 68)\n",
      "Reading in data from ../data/raw/small_100/0052_part_00.parquet\n",
      "Data of shape (49389, 68)\n",
      "Reading in data from ../data/raw/small_100/0027_part_00.parquet\n",
      "Data of shape (49235, 68)\n",
      "Reading in data from ../data/raw/small_100/0081_part_00.parquet\n",
      "Data of shape (49152, 68)\n",
      "Reading in data from ../data/raw/small_100/0060_part_00.parquet\n",
      "Data of shape (49068, 68)\n",
      "Reading in data from ../data/raw/small_100/0079_part_00.parquet\n",
      "Data of shape (49033, 68)\n",
      "Reading in data from ../data/raw/small_100/0044_part_00.parquet\n",
      "Data of shape (49480, 68)\n",
      "Reading in data from ../data/raw/small_100/0003_part_00.parquet\n",
      "Data of shape (49048, 68)\n",
      "Reading in data from ../data/raw/small_100/0004_part_00.parquet\n",
      "Data of shape (49223, 68)\n",
      "Reading in data from ../data/raw/small_100/0039_part_00.parquet\n",
      "Data of shape (49417, 68)\n",
      "Reading in data from ../data/raw/small_100/0043_part_00.parquet\n",
      "Data of shape (49045, 68)\n",
      "Reading in data from ../data/raw/small_100/0067_part_00.parquet\n",
      "Data of shape (49184, 68)\n",
      "Reading in data from ../data/raw/small_100/0086_part_00.parquet\n",
      "Data of shape (49041, 68)\n",
      "Reading in data from ../data/raw/small_100/0020_part_00.parquet\n",
      "Data of shape (49136, 68)\n",
      "Reading in data from ../data/raw/small_100/0068_part_00.parquet\n",
      "Data of shape (49207, 68)\n",
      "Reading in data from ../data/raw/small_100/0055_part_00.parquet\n",
      "Data of shape (49062, 68)\n",
      "Reading in data from ../data/raw/small_100/0012_part_00.parquet\n",
      "Data of shape (49141, 68)\n",
      "Reading in data from ../data/raw/small_100/0089_part_00.parquet\n",
      "Data of shape (49272, 68)\n",
      "Reading in data from ../data/raw/small_100/0036_part_00.parquet\n",
      "Data of shape (48967, 68)\n",
      "Reading in data from ../data/raw/small_100/0090_part_00.parquet\n",
      "Data of shape (49160, 68)\n",
      "Reading in data from ../data/raw/small_100/0071_part_00.parquet\n",
      "Data of shape (49121, 68)\n",
      "Total dataframe of shape (4722148, 68)\n"
     ]
    }
   ],
   "source": [
    "df = read_parquet(data_path, randomize = False, num_partitions = None)"
   ]
  },
  {
   "cell_type": "code",
   "execution_count": 6,
   "metadata": {},
   "outputs": [
    {
     "data": {
      "text/plain": [
       "Index(['search_result_id', 'search_request_id', 'hotel_id', 'user_id',\n",
       "       'srq_date_created', 'label', 'display_rank', 'price_rank',\n",
       "       'rewards_rank', 'est_spread_rank', 'check_in', 'check_out',\n",
       "       'reward_program_hash', 'site_hash', 'region_id', 'est_ttm',\n",
       "       'average_published_tax_and_fees', 'average_published_price',\n",
       "       'hotel_cumulative_share', 'total_rewards', 'advance_purchase_days',\n",
       "       'number_of_nights', 'number_of_rooms', 'number_of_adults',\n",
       "       'number_of_children', 'normalized_rewards',\n",
       "       'previous_user_hotel_interaction', 'session_id', 'promotion_id',\n",
       "       'anonymous_user', 'srq_latitude', 'srq_longitude', 'check_in_weekday',\n",
       "       'check_out_weekday', 'srq_weekhour', 'travel_intent', 'weekday_travel',\n",
       "       'weekend_travel', 'hotel_latitude', 'hotel_longitude', 'rating',\n",
       "       'stars', 'number_of_reviews', 'srq_hotel_distance', 'srq_price_zscore',\n",
       "       'srq_rewards_zscore', 'srq_distance_zscore', 'srq_rating_zscore',\n",
       "       'srq_stars_zscore', 'user_preceding_clicks', 'raw_user_preferred_price',\n",
       "       'user_preferred_price', 'user_preferred_rewards',\n",
       "       'user_preferred_stars', 'user_preferred_rating',\n",
       "       'user_preferred_distance', 'region_preceding_bookings',\n",
       "       'region_meanprice_diff', 'region_rating_diff', 'region_stars_diff',\n",
       "       'region_centroid_distance', 'region_rewards_diff', 'region_price_sd',\n",
       "       'region_rating_sd', 'region_stars_sd', 'region_rewards_sd',\n",
       "       'hotel_cumulative_bookings', 'popawi'],\n",
       "      dtype='object')"
      ]
     },
     "execution_count": 6,
     "metadata": {},
     "output_type": "execute_result"
    }
   ],
   "source": [
    "df.columns"
   ]
  },
  {
   "cell_type": "code",
   "execution_count": 7,
   "metadata": {},
   "outputs": [
    {
     "data": {
      "text/plain": [
       "1796352"
      ]
     },
     "execution_count": 7,
     "metadata": {},
     "output_type": "execute_result"
    }
   ],
   "source": [
    "sum(df.user_id.isna())"
   ]
  },
  {
   "cell_type": "code",
   "execution_count": 28,
   "metadata": {},
   "outputs": [],
   "source": [
    "temp = df[df.user_id.notnull()]"
   ]
  },
  {
   "cell_type": "code",
   "execution_count": 29,
   "metadata": {},
   "outputs": [],
   "source": [
    "temp = temp[['search_request_id', 'hotel_id', 'user_id','label', 'check_in', 'check_out',\n",
    "       'reward_program_hash', 'advance_purchase_days',\n",
    "       'number_of_nights', 'number_of_rooms', 'number_of_adults',\n",
    "       'srq_latitude', 'srq_longitude', 'check_in_weekday',\n",
    "       'check_out_weekday', 'srq_weekhour', 'weekday_travel',\n",
    "       'weekend_travel']]"
   ]
  },
  {
   "cell_type": "code",
   "execution_count": 43,
   "metadata": {},
   "outputs": [
    {
     "data": {
      "text/plain": [
       "2129121"
      ]
     },
     "execution_count": 43,
     "metadata": {},
     "output_type": "execute_result"
    }
   ],
   "source": [
    "max(temp.hotel_id)"
   ]
  },
  {
   "cell_type": "code",
   "execution_count": 51,
   "metadata": {},
   "outputs": [
    {
     "data": {
      "text/plain": [
       "0    97\n",
       "1    25\n",
       "2     2\n",
       "Name: label, dtype: int64"
      ]
     },
     "execution_count": 51,
     "metadata": {},
     "output_type": "execute_result"
    }
   ],
   "source": [
    "temp.loc[temp.search_request_id == 10066088942].label.value_counts()"
   ]
  },
  {
   "cell_type": "code",
   "execution_count": null,
   "metadata": {},
   "outputs": [],
   "source": []
  }
 ],
 "metadata": {
  "kernelspec": {
   "display_name": "Python 3",
   "language": "python",
   "name": "python3"
  },
  "language_info": {
   "codemirror_mode": {
    "name": "ipython",
    "version": 3
   },
   "file_extension": ".py",
   "mimetype": "text/x-python",
   "name": "python",
   "nbconvert_exporter": "python",
   "pygments_lexer": "ipython3",
   "version": "3.7.7"
  }
 },
 "nbformat": 4,
 "nbformat_minor": 4
}
